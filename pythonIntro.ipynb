{
 "cells": [
  {
   "cell_type": "markdown",
   "metadata": {},
   "source": [
    "## First App"
   ]
  },
  {
   "cell_type": "code",
   "execution_count": 10,
   "metadata": {},
   "outputs": [
    {
     "name": "stdout",
     "output_type": "stream",
     "text": [
      "\n",
      "Welcome to Python 3.7's help utility!\n",
      "\n",
      "If this is your first time using Python, you should definitely check out\n",
      "the tutorial on the Internet at https://docs.python.org/3.7/tutorial/.\n",
      "\n",
      "Enter the name of any module, keyword, or topic to get help on writing\n",
      "Python programs and using Python modules.  To quit this help utility and\n",
      "return to the interpreter, just type \"quit\".\n",
      "\n",
      "To get a list of available modules, keywords, symbols, or topics, type\n",
      "\"modules\", \"keywords\", \"symbols\", or \"topics\".  Each module also comes\n",
      "with a one-line summary of what it does; to list the modules whose name\n",
      "or summary contain a given string such as \"spam\", type \"modules spam\".\n",
      "\n",
      "\n",
      "You are now leaving help and returning to the Python interpreter.\n",
      "If you want to ask for help on a particular object directly from the\n",
      "interpreter, you can type \"help(object)\".  Executing \"help('string')\"\n",
      "has the same effect as typing a particular string at the help> prompt.\n",
      "This is some text.\n",
      "This is a simple Python application.\n"
     ]
    }
   ],
   "source": [
    "help()\n",
    "print('This is some text.')\n",
    "\n",
    "print(\"This is a simple Python application.\")"
   ]
  },
  {
   "cell_type": "markdown",
   "metadata": {},
   "source": [
    "## Chapter 5"
   ]
  },
  {
   "cell_type": "code",
   "execution_count": 17,
   "metadata": {},
   "outputs": [
    {
     "data": {
      "text/plain": [
       "'2019-07-02'"
      ]
     },
     "execution_count": 17,
     "metadata": {},
     "output_type": "execute_result"
    }
   ],
   "source": [
    "import datetime\n",
    "\n",
    "\n",
    "myVar = 5\n",
    "\n",
    "Test = 0b100\n",
    "Test = 0o100\n",
    "Test = 100\n",
    "Test = 0x100\n",
    "\n",
    "bin(Test)\n",
    "oct(Test)\n",
    "hex(Test)\n",
    "\n",
    "Test = 255\n",
    "Test = 2.55e2\n",
    "Test = 2.55e-2\n",
    "\n",
    "myComplex = 3 + 4j\n",
    "\n",
    "myInt = 5\n",
    "type(myInt)\n",
    "\n",
    "myBool = 1 > 2\n",
    "\n",
    "myString = \"Python is a great language.\"\n",
    "\n",
    "#File \"<ipython-input-10-7ed925f077ea>\", line 28\n",
    "#    ord(“A”)\n",
    "#^\n",
    "#SyntaxError: invalid character in identifier\n",
    "\n",
    "myOrd = ord('A')\n",
    "\n",
    "myInt = int('123')\n",
    "\n",
    "#File \"<ipython-input-12-76b4c4d815d7>\", line 35\n",
    "#myInt = int(“123”)\n",
    "#                    ^\n",
    "#SyntaxError: invalid character in identifier\n",
    "\n",
    "myStr = str(1234.56)\n",
    "\n",
    "datetime.datetime.now()\n",
    "\n",
    "str(datetime.datetime.now().date())"
   ]
  },
  {
   "cell_type": "markdown",
   "metadata": {},
   "source": [
    "## Get Started"
   ]
  },
  {
   "cell_type": "code",
   "execution_count": 1,
   "metadata": {},
   "outputs": [
    {
     "name": "stdout",
     "output_type": "stream",
     "text": [
      "I Love data Science\n",
      "I Love data Science\n",
      "50.0\n",
      "25Hello\n",
      "[2, 3]\n"
     ]
    },
    {
     "data": {
      "text/plain": [
       "3.0"
      ]
     },
     "execution_count": 1,
     "metadata": {},
     "output_type": "execute_result"
    }
   ],
   "source": [
    "import math as mt\n",
    "import numpy as np\n",
    "from numpy import random\n",
    "\n",
    "\n",
    "mt.sqrt(25)\n",
    "mt.pi\n",
    "\n",
    "# uniform random numbers in [0,1]\n",
    "dataOne = random.rand(5,5)\n",
    "dataOne\n",
    "\n",
    "np.mean(dataOne)\n",
    "\n",
    "print('I Love data Science')\n",
    "\n",
    "variableName = 25\n",
    "\n",
    "variableName1 = 'I Love data Science'\n",
    "\n",
    "print(variableName1)\n",
    "\n",
    "variableName = 25\n",
    "\n",
    "type(variableName)\n",
    "\n",
    "variableName = 25.0\n",
    "type(variableName)\n",
    "\n",
    "varOne = 25\n",
    "varTwo = 25.0\n",
    "varThree = varOne + varTwo\n",
    "\n",
    "print(varThree)\n",
    "\n",
    "#Lo siguente da error ya que se esta realizando una operacion de suma entre una variable entera y una cadena de texto\n",
    "#la solución es o que los dos sean enteros o bien que los dos sean cadenas de texto\n",
    "varOne = '25'\n",
    "varTwo = 'Hello'\n",
    "varThree = varOne + varTwo\n",
    "\n",
    "print(varThree)\n",
    "\n",
    "listName = []\n",
    "\n",
    "listOne = [1,2,3,4]\n",
    "print(listOne[1:3])\n",
    "\n",
    "tel = {'jack': 4098, 'sape': 4139}\n",
    "tel['jack']\n",
    "\n",
    "enteros = {'uno': 1, 'dos': 2, 'tres': 3, 'cuatro': 4, 'cinco': 5}\n",
    "\n",
    "miPrimerResultado = enteros['uno'] + enteros['tres'] + enteros['cinco']\n",
    "miPrimerResultado\n",
    "\n",
    "miSegundoResultado = enteros['uno'] + enteros['tres'] - enteros['cinco']\n",
    "miSegundoResultado\n",
    "\n",
    "miTercerResultado = mt.sqrt(miPrimerResultado)\n",
    "miTercerResultado"
   ]
  },
  {
   "cell_type": "markdown",
   "metadata": {},
   "source": [
    "## Questions"
   ]
  },
  {
   "cell_type": "markdown",
   "metadata": {},
   "source": [
    "# Was it straightforward to install Python and all of the libraries?\n",
    "\n",
    "In my case, it was easy to install Python and its libraries, maybe if it was quite different from the experience with the R language.\n",
    "\n",
    "\n",
    "# Was the tutorial useful? Would you recommend it to others?\n",
    "\n",
    "If I would recommend the tutorial to other students or users of Python, it is very easy to perform.\n",
    "\n",
    "# What are the main lessons you've learned from this experience?\n",
    "\n",
    "The best lesson learned is the mix of markdown and programming source code, I find it very interesting, I had never used a tool with this feature before."
   ]
  },
  {
   "cell_type": "markdown",
   "metadata": {},
   "source": [
    "## Comments"
   ]
  },
  {
   "cell_type": "code",
   "execution_count": 3,
   "metadata": {},
   "outputs": [
    {
     "name": "stdout",
     "output_type": "stream",
     "text": [
      "Hello from Python!\n"
     ]
    },
    {
     "data": {
      "text/plain": [
       "'\\nApplication: Comments.py\\nWritten by: John\\nPurpose: Shows how to use comments.\\n'"
      ]
     },
     "execution_count": 3,
     "metadata": {},
     "output_type": "execute_result"
    }
   ],
   "source": [
    "# This is a comment.\n",
    "print(\"Hello from Python!\") #This is also a comment.\n",
    "\n",
    "\"\"\"\n",
    "Application: Comments.py\n",
    "Written by: John\n",
    "Purpose: Shows how to use comments.\n",
    "\"\"\"\n",
    "\n",
    "##print(\"Hello from Python!\")"
   ]
  },
  {
   "cell_type": "markdown",
   "metadata": {},
   "source": [
    "## Long Line"
   ]
  },
  {
   "cell_type": "code",
   "execution_count": 8,
   "metadata": {},
   "outputs": [
    {
     "name": "stdout",
     "output_type": "stream",
     "text": [
      "This is a really long line of text that will appear on multiple lines in the source code file.\n"
     ]
    }
   ],
   "source": [
    "print(\"This is a really long line of text that will \" +\n",
    "      \"appear on multiple lines in the source code file.\")"
   ]
  },
  {
   "cell_type": "code",
   "execution_count": null,
   "metadata": {},
   "outputs": [],
   "source": []
  }
 ],
 "metadata": {
  "kernelspec": {
   "display_name": "Python 3",
   "language": "python",
   "name": "python3"
  },
  "language_info": {
   "codemirror_mode": {
    "name": "ipython",
    "version": 3
   },
   "file_extension": ".py",
   "mimetype": "text/x-python",
   "name": "python",
   "nbconvert_exporter": "python",
   "pygments_lexer": "ipython3",
   "version": "3.7.3"
  }
 },
 "nbformat": 4,
 "nbformat_minor": 2
}
